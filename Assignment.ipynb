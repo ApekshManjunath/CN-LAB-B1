{
  "nbformat": 4,
  "nbformat_minor": 0,
  "metadata": {
    "colab": {
      "name": "Untitled0.ipynb",
      "provenance": [],
      "authorship_tag": "ABX9TyNu5EaZh8EwjWsKHGVAZJSI",
      "include_colab_link": true
    },
    "kernelspec": {
      "name": "python3",
      "display_name": "Python 3"
    }
  },
  "cells": [
    {
      "cell_type": "markdown",
      "metadata": {
        "id": "view-in-github",
        "colab_type": "text"
      },
      "source": [
        "<a href=\"https://colab.research.google.com/github/ApekshManjunath/CN-LAB-B1/blob/master/Assignment.ipynb\" target=\"_parent\"><img src=\"https://colab.research.google.com/assets/colab-badge.svg\" alt=\"Open In Colab\"/></a>"
      ]
    },
    {
      "cell_type": "markdown",
      "metadata": {
        "id": "sm2xyiw2pMRk",
        "colab_type": "text"
      },
      "source": [
        "Program 1:\n",
        "Write a short program that prints the numbers 1 to 10 using a for loop. Then write an equivalent program that prints the numbers 1 to 10 using a while loop"
      ]
    },
    {
      "cell_type": "code",
      "metadata": {
        "id": "xqVytC41oCBf",
        "colab_type": "code",
        "colab": {}
      },
      "source": [
        "def print10num():\n",
        "    print(\"Printing 10 numbers using for loop\")\n",
        "    for i in range(10):\n",
        "        print(i+1, end=\"  \")\n",
        "    \n",
        "    print(\"\\nPrinting 10 number using while loop\")\n",
        "    x = 1\n",
        "    while x != 11:\n",
        "        print(x, end=\"  \")\n",
        "        x += 1"
      ],
      "execution_count": 2,
      "outputs": []
    },
    {
      "cell_type": "code",
      "metadata": {
        "id": "HHmIutDSoU0Y",
        "colab_type": "code",
        "colab": {
          "base_uri": "https://localhost:8080/",
          "height": 85
        },
        "outputId": "bc69964b-cdc2-4834-ba45-1dcd0430004e"
      },
      "source": [
        "print10num()"
      ],
      "execution_count": 3,
      "outputs": [
        {
          "output_type": "stream",
          "text": [
            "Printing 10 numbers using for loop\n",
            "1  2  3  4  5  6  7  8  9  10  \n",
            "Printing 10 number using while loop\n",
            "1  2  3  4  5  6  7  8  9  10  "
          ],
          "name": "stdout"
        }
      ]
    },
    {
      "cell_type": "markdown",
      "metadata": {
        "id": "LlxJJ8i0pUEE",
        "colab_type": "text"
      },
      "source": [
        "Program 2:\n",
        "Write a function to calculate your age ( input : Date of birth )"
      ]
    },
    {
      "cell_type": "code",
      "metadata": {
        "id": "8IGTx6KHpX3Q",
        "colab_type": "code",
        "colab": {}
      },
      "source": [
        "def age():\n",
        "    birth_date = input(\"Enter your date of birth in 'DD/MM/YYYY' format: \")\n",
        "    bday, bmonth, byear = int(birth_date[:2]), int(birth_date[3:5]), int(birth_date[6:])\n",
        "    today = input(\"Enter today's date in 'DD/MM/YYYY' format: \")\n",
        "    tday, tmonth, tyear = int(today[:2]), int(today[3:5]), int(today[6:])\n",
        "    \n",
        "    age = tyear - byear -1\n",
        "    if tmonth > bmonth:\n",
        "        age += 1\n",
        "    if tmonth == bmonth:\n",
        "        if tday >= bday:\n",
        "            age += 1\n",
        "    \n",
        "    print(f\"You are {age} years old\")\n"
      ],
      "execution_count": 24,
      "outputs": []
    },
    {
      "cell_type": "code",
      "metadata": {
        "id": "vJ_UyW78puKR",
        "colab_type": "code",
        "colab": {
          "base_uri": "https://localhost:8080/",
          "height": 68
        },
        "outputId": "51ebbdc9-b2e0-40e1-c7cd-6ed555914a8c"
      },
      "source": [
        "age()"
      ],
      "execution_count": 25,
      "outputs": [
        {
          "output_type": "stream",
          "text": [
            "Enter your date of birth in 'DD/MM/YYYY' format: 19/10/2000\n",
            "Enter today's date in 'DD/MM/YYYY' format: 24/09/2020\n",
            "You are 19 years old\n"
          ],
          "name": "stdout"
        }
      ]
    },
    {
      "cell_type": "markdown",
      "metadata": {
        "id": "Z5YTyTBtqSJX",
        "colab_type": "text"
      },
      "source": [
        "Program 3:\n",
        "Write a program to check whether given string is palindrome or not ( don't use built in function)"
      ]
    },
    {
      "cell_type": "code",
      "metadata": {
        "id": "uUlH93s3qVp8",
        "colab_type": "code",
        "colab": {}
      },
      "source": [
        "def palindrome():\n",
        "    string = input(\"Enter the string: \")\n",
        "    for i in range(len(string)):\n",
        "        if string[i] != string[len(string) -1 - i]:\n",
        "            print(\"Not a palindrome\")\n",
        "            return\n",
        "    print(\"It is a palindrome\")"
      ],
      "execution_count": 9,
      "outputs": []
    },
    {
      "cell_type": "code",
      "metadata": {
        "id": "DZxLJSA2qZKc",
        "colab_type": "code",
        "colab": {
          "base_uri": "https://localhost:8080/",
          "height": 51
        },
        "outputId": "ef2aeb19-c4dd-44d0-bc92-4684f7412916"
      },
      "source": [
        "palindrome()"
      ],
      "execution_count": 11,
      "outputs": [
        {
          "output_type": "stream",
          "text": [
            "Enter the string: ahahahaha\n",
            "It is a palindrome\n"
          ],
          "name": "stdout"
        }
      ]
    },
    {
      "cell_type": "markdown",
      "metadata": {
        "id": "rgmaOEhXrQAY",
        "colab_type": "text"
      },
      "source": [
        "Program 4:\n",
        "Write a function to calculate the discount amount on a sale \n",
        "Example :\n",
        "    If purchase amount is >5000 discount percentage is 40%\n",
        "    If Purchase amount is >2000 discount percentage is 20%"
      ]
    },
    {
      "cell_type": "code",
      "metadata": {
        "id": "x6OO-Q67rWEO",
        "colab_type": "code",
        "colab": {}
      },
      "source": [
        "def discount():\n",
        "    discount = 0\n",
        "    amount = int(input(\"Enter the purchase amount: \"))\n",
        "    if amount > 5000:\n",
        "        discount = 0.4\n",
        "    elif amount > 2000:\n",
        "        discount = 0.2\n",
        "    bill = amount - amount*discount\n",
        "    print(f\"Actual amount: {amount}\")\n",
        "    print(\"Bill after discount: {0:.2f}\".format(bill))\n",
        "    print(\"Total savings: {0:.2f}\".format(amount*discount))"
      ],
      "execution_count": 26,
      "outputs": []
    },
    {
      "cell_type": "code",
      "metadata": {
        "id": "EPQAw2MgrZEL",
        "colab_type": "code",
        "colab": {
          "base_uri": "https://localhost:8080/",
          "height": 85
        },
        "outputId": "418a51d4-5bd0-4558-fbcf-3815fc7957f9"
      },
      "source": [
        "discount()"
      ],
      "execution_count": 27,
      "outputs": [
        {
          "output_type": "stream",
          "text": [
            "Enter the purchase amount: 5000\n",
            "Actual amount: 5000\n",
            "Bill after discount: 4000.00\n",
            "Total savings: 1000.00\n"
          ],
          "name": "stdout"
        }
      ]
    }
  ]
}